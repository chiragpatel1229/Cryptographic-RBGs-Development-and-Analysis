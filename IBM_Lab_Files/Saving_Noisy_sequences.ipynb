{
 "cells": [
  {
   "cell_type": "code",
   "execution_count": 1,
   "id": "52780e13-4697-46b6-a666-7d6bfbc8ccb5",
   "metadata": {
    "tags": []
   },
   "outputs": [],
   "source": [
    "import numpy as np\n",
    "from qiskit import QuantumRegister, ClassicalRegister, QuantumCircuit\n",
    "from qiskit.quantum_info import Kraus, SuperOp\n",
    "from qiskit.visualization import plot_histogram\n",
    "from qiskit.transpiler.preset_passmanagers import generate_preset_pass_manager\n",
    "from qiskit_aer import AerSimulator\n",
    " \n",
    "# Import from Qiskit Aer noise module\n",
    "from qiskit_aer.noise import (\n",
    "    NoiseModel,\n",
    "    QuantumError,\n",
    "    ReadoutError,\n",
    "    depolarizing_error,\n",
    "    pauli_error,\n",
    "    thermal_relaxation_error,\n",
    ")"
   ]
  },
  {
   "cell_type": "code",
   "execution_count": 2,
   "id": "a53d3905-9ab6-4948-835a-374463f0b761",
   "metadata": {
    "tags": []
   },
   "outputs": [
    {
     "name": "stderr",
     "output_type": "stream",
     "text": [
      "qiskit_runtime_service.__init__:INFO:2024-03-06 13:10:23,187: Default instance: ibm-q/open/main\n"
     ]
    }
   ],
   "source": [
    "from qiskit_ibm_runtime import QiskitRuntimeService\n",
    "\n",
    "service = QiskitRuntimeService()\n",
    "backend = service.backend(\"ibm_brisbane\")\n",
    "noise_model = NoiseModel.from_backend(backend)"
   ]
  },
  {
   "cell_type": "code",
   "execution_count": 3,
   "id": "11b7cb11-36e0-4cc8-906e-b5e6c3eb081c",
   "metadata": {
    "tags": []
   },
   "outputs": [],
   "source": [
    "# System Specification\n",
    "n_qubits = 64\n",
    "circ = QuantumCircuit(n_qubits)\n",
    "\n",
    "# Apply Hadamard gate to all qubits\n",
    "for qubit in range(n_qubits):\n",
    "    circ.h(qubit)\n",
    "\n",
    "# Measure all qubits\n",
    "circ.measure_all()\n",
    "# print(circ)"
   ]
  },
  {
   "cell_type": "code",
   "execution_count": 4,
   "id": "b2922132-8323-4887-9bf8-7baea4c97181",
   "metadata": {
    "tags": []
   },
   "outputs": [],
   "source": [
    "# Ideal simulator and execution\n",
    "sim_ideal = AerSimulator()\n",
    "\n",
    "# Number of sequences to generate\n",
    "num_sequences = 2\n",
    "\n",
    "# Number of times to run the circuit to get 512 bits\n",
    "num_runs = 512 // n_qubits\n",
    "\n",
    "# Open the file in write mode\n",
    "with open('Ideal_seq.txt', 'w') as f:\n",
    "    # Repeat for each sequence\n",
    "    for _ in range(num_sequences):\n",
    "        # Initialize an empty string to store the binary sequence\n",
    "        binary_sequence = ''\n",
    "\n",
    "        # Generate the sequence\n",
    "        for _ in range(num_runs):\n",
    "            result_ideal = sim_ideal.run(circ).result()\n",
    "            counts = result_ideal.get_counts()  # number of times - unique binary sequences\n",
    "\n",
    "            # Get the most frequent bitstring\n",
    "            most_frequent_bitstring = max(counts, key=counts.get)\n",
    "            binary_sequence += most_frequent_bitstring\n",
    "\n",
    "        # Write the sequence to the file\n",
    "        f.write(binary_sequence + '\\n')\n"
   ]
  },
  {
   "cell_type": "code",
   "execution_count": 5,
   "id": "ebe44592-c250-48a8-8a8d-29f21d462d95",
   "metadata": {
    "tags": []
   },
   "outputs": [
    {
     "name": "stdout",
     "output_type": "stream",
     "text": [
      "NoiseModel:\n",
      "  Basis gates: ['cx', 'id', 'rz', 'sx', 'u1', 'u2', 'u3']\n",
      "  Instructions with noise: ['u2', 'measure', 'reset', 'u1', 'cx', 'u3']\n",
      "  All-qubits errors: ['reset', 'measure', 'u1', 'u2', 'u3', 'cx']\n"
     ]
    }
   ],
   "source": [
    "# Noise Example 1: Basic bit-flip error noise model\n",
    "# Lets consider a simple toy noise model example common in quantum information theory research:\n",
    "\n",
    "# When applying a single qubit gate, flip the state of the qubit with probability p_gate1.\n",
    "# When applying a 2-qubit gate apply single-qubit errors to each qubit.\n",
    "# When resetting a qubit reset to 1 instead of 0 with probability p_reset.\n",
    "# When measuring a qubit, flip the state of the qubit with probability p_meas.\n",
    "\n",
    "# Example error probabilities\n",
    "p_reset = 0.03\n",
    "p_meas = 0.1\n",
    "p_gate1 = 0.05\n",
    " \n",
    "# QuantumError objects\n",
    "error_reset = pauli_error([('X', p_reset), ('I', 1 - p_reset)])\n",
    "error_meas = pauli_error([('X',p_meas), ('I', 1 - p_meas)])\n",
    "error_gate1 = pauli_error([('X',p_gate1), ('I', 1 - p_gate1)])\n",
    "error_gate2 = error_gate1.tensor(error_gate1)\n",
    " \n",
    "# Add errors to noise model\n",
    "noise_bit_flip = NoiseModel()\n",
    "noise_bit_flip.add_all_qubit_quantum_error(error_reset, \"reset\")\n",
    "noise_bit_flip.add_all_qubit_quantum_error(error_meas, \"measure\")\n",
    "noise_bit_flip.add_all_qubit_quantum_error(error_gate1, [\"u1\", \"u2\", \"u3\"])\n",
    "noise_bit_flip.add_all_qubit_quantum_error(error_gate2, [\"cx\"])\n",
    " \n",
    "print(noise_bit_flip)"
   ]
  },
  {
   "cell_type": "code",
   "execution_count": 6,
   "id": "4c0ba1bd-0b30-4715-87cf-e6ab7e64538a",
   "metadata": {
    "tags": []
   },
   "outputs": [
    {
     "name": "stdout",
     "output_type": "stream",
     "text": [
      "Traceback \u001b[1;36m(most recent call last)\u001b[0m:\n",
      "\u001b[0m  Cell \u001b[0;32mIn[6], line 6\u001b[0m\n",
      "    circ_tnoise = passmanager.run(circ)\u001b[0m\n",
      "\u001b[0m  File \u001b[0;32m/opt/conda/lib/python3.10/site-packages/qiskit/transpiler/passmanager.py:397\u001b[0m in \u001b[0;35mrun\u001b[0m\n",
      "    return super().run(circuits, output_name, callback, num_processes=num_processes)\u001b[0m\n",
      "\u001b[1;36m  File \u001b[1;32m/opt/conda/lib/python3.10/site-packages/qiskit/transpiler/passmanager.py:422\u001b[1;36m in \u001b[1;35mwrapper\u001b[1;36m\n",
      "\u001b[1;33m    raise TranspilerError(ex.message) from ex\u001b[1;36m\n",
      "\u001b[1;31mTranspilerError\u001b[0m\u001b[1;31m:\u001b[0m \"HighLevelSynthesis was unable to synthesize Instruction(name='measure', num_qubits=1, num_clbits=1, params=[]).\"\n",
      "\n",
      "Use %tb to get the full traceback.\n"
     ]
    },
    {
     "data": {
      "text/html": [
       "\n",
       "<style>\n",
       ".button {\n",
       "  border: none;\n",
       "  color: white;\n",
       "  padding: 4px 8px;\n",
       "  text-align: center;\n",
       "  text-decoration: none;\n",
       "  display: inline-block;\n",
       "  font-size: 12px;\n",
       "  margin: 4px 2px;\n",
       "  transition-duration: 0.2s;\n",
       "  cursor: pointer;\n",
       "}\n",
       ".iqx-button {\n",
       "  background-color: #0f62fe; \n",
       "  color: white; \n",
       "}\n",
       ".iqx-button:hover {\n",
       "  background-color: #0043ce;\n",
       "  color: white;\n",
       "}\n",
       "</style>\n",
       "<a href=\"https://stackoverflow.com/search?q=TranspilerError: HighLevelSynthesis was unable to synthesize Instruction(name='measure', num_qubits=1, num_clbits=1, params=[]).\" target='_blank'><button class='button iqx-button'>Search for solution online</button></a>\n"
      ],
      "text/plain": [
       "<IPython.core.display.HTML object>"
      ]
     },
     "metadata": {},
     "output_type": "display_data"
    }
   ],
   "source": [
    "# Create noisy simulator backend\n",
    "sim_noise = AerSimulator(noise_model=noise_bit_flip)\n",
    " \n",
    "# Transpile circuit for noisy basis gates\n",
    "passmanager = generate_preset_pass_manager(optimization_level=3, backend=sim_noise)\n",
    "circ_tnoise = passmanager.run(circ)\n",
    "\n",
    "# Number of sequences to generate\n",
    "num_sequences = 2\n",
    "\n",
    "# Number of times to run the circuit to get 512 bits\n",
    "num_runs = 512 // n_qubits\n",
    "\n",
    "# Open the file in write mode\n",
    "with open('Flip_bit_seq.txt', 'w') as f:\n",
    "    # Repeat for each sequence\n",
    "    for _ in range(num_sequences):\n",
    "        # Initialize an empty string to store the binary sequence\n",
    "        binary_sequence = ''\n",
    "\n",
    "        # Generate the sequence\n",
    "        for _ in range(num_runs):\n",
    "            # Run and get counts\n",
    "            result_bit_flip = sim_noise.run(circ_tnoise).result()\n",
    "            counts_bit_flip = result_bit_flip.get_counts(0)\n",
    "\n",
    "            # Get the most frequent bitstring\n",
    "            most_frequent_bitstring = max(counts_bit_flip, key=counts_bit_flip.get)\n",
    "            binary_sequence += most_frequent_bitstring\n",
    "\n",
    "        # Write the sequence to the file\n",
    "        f.write(binary_sequence + '\\n')"
   ]
  },
  {
   "cell_type": "code",
   "execution_count": 7,
   "id": "d907dc98-4eac-4eef-b5eb-9e17ec6be782",
   "metadata": {
    "tags": []
   },
   "outputs": [
    {
     "name": "stdout",
     "output_type": "stream",
     "text": [
      "NoiseModel:\n",
      "  Basis gates: ['cx', 'id', 'rz', 'sx', 'u2', 'u3']\n",
      "  Instructions with noise: ['u2', 'measure', 'reset', 'cx', 'u3']\n",
      "  Qubits with noise: [0, 1, 2, 3]\n",
      "  Specific qubit errors: [('reset', (0,)), ('reset', (1,)), ('reset', (2,)), ('reset', (3,)), ('measure', (0,)), ('measure', (1,)), ('measure', (2,)), ('measure', (3,)), ('u2', (0,)), ('u2', (1,)), ('u2', (2,)), ('u2', (3,)), ('u3', (0,)), ('u3', (1,)), ('u3', (2,)), ('u3', (3,)), ('cx', (0, 0)), ('cx', (0, 1)), ('cx', (0, 2)), ('cx', (0, 3)), ('cx', (1, 0)), ('cx', (1, 1)), ('cx', (1, 2)), ('cx', (1, 3)), ('cx', (2, 0)), ('cx', (2, 1)), ('cx', (2, 2)), ('cx', (2, 3)), ('cx', (3, 0)), ('cx', (3, 1)), ('cx', (3, 2)), ('cx', (3, 3))]\n"
     ]
    }
   ],
   "source": [
    "# T1 and T2 values for qubits 0-3\n",
    "n_bits = 4\n",
    "T1s = np.random.normal(50e3, 10e3, n_bits) # Sampled from normal distribution mean 50 microsec\n",
    "T2s = np.random.normal(70e3, 10e3, n_bits)  # Sampled from normal distribution mean 50 microsec\n",
    " \n",
    "# Truncate random T2s <= T1s\n",
    "T2s = np.array([min(T2s[j], 2 * T1s[j]) for j in range(n_bits)])\n",
    " \n",
    "# Instruction times (in nanoseconds)\n",
    "time_u1 = 0   # virtual gate\n",
    "time_u2 = 50  # (single X90 pulse)\n",
    "time_u3 = 100 # (two X90 pulses)\n",
    "time_cx = 300\n",
    "time_reset = 1000  # 1 microsecond\n",
    "time_measure = 1000 # 1 microsecond\n",
    " \n",
    "# QuantumError objects\n",
    "errors_reset = [thermal_relaxation_error(t1, t2, time_reset)\n",
    "                for t1, t2 in zip(T1s, T2s)]\n",
    "errors_measure = [thermal_relaxation_error(t1, t2, time_measure)\n",
    "                  for t1, t2 in zip(T1s, T2s)]\n",
    "errors_u1  = [thermal_relaxation_error(t1, t2, time_u1)\n",
    "              for t1, t2 in zip(T1s, T2s)]\n",
    "errors_u2  = [thermal_relaxation_error(t1, t2, time_u2)\n",
    "              for t1, t2 in zip(T1s, T2s)]\n",
    "errors_u3  = [thermal_relaxation_error(t1, t2, time_u3)\n",
    "              for t1, t2 in zip(T1s, T2s)]\n",
    "errors_cx = [[thermal_relaxation_error(t1a, t2a, time_cx).expand(\n",
    "             thermal_relaxation_error(t1b, t2b, time_cx))\n",
    "              for t1a, t2a in zip(T1s, T2s)]\n",
    "               for t1b, t2b in zip(T1s, T2s)]\n",
    " \n",
    "# Add errors to noise model\n",
    "noise_thermal = NoiseModel()\n",
    "for j in range(n_bits):\n",
    "    noise_thermal.add_quantum_error(errors_reset[j], \"reset\", [j])\n",
    "    noise_thermal.add_quantum_error(errors_measure[j], \"measure\", [j])\n",
    "    noise_thermal.add_quantum_error(errors_u1[j], \"u1\", [j])\n",
    "    noise_thermal.add_quantum_error(errors_u2[j], \"u2\", [j])\n",
    "    noise_thermal.add_quantum_error(errors_u3[j], \"u3\", [j])\n",
    "    for k in range(n_bits):\n",
    "        noise_thermal.add_quantum_error(errors_cx[j][k], \"cx\", [j, k])\n",
    " \n",
    "print(noise_thermal)"
   ]
  },
  {
   "cell_type": "code",
   "execution_count": 9,
   "id": "b19b9dbe-e85d-4db1-a2c9-67cc32fad17f",
   "metadata": {
    "tags": []
   },
   "outputs": [
    {
     "name": "stdout",
     "output_type": "stream",
     "text": [
      "Traceback \u001b[1;36m(most recent call last)\u001b[0m:\n",
      "\u001b[0m  Cell \u001b[0;32mIn[9], line 6\u001b[0m\n",
      "    circ_tnoise = passmanager.run(circ)\u001b[0m\n",
      "\u001b[0m  File \u001b[0;32m/opt/conda/lib/python3.10/site-packages/qiskit/transpiler/passmanager.py:397\u001b[0m in \u001b[0;35mrun\u001b[0m\n",
      "    return super().run(circuits, output_name, callback, num_processes=num_processes)\u001b[0m\n",
      "\u001b[1;36m  File \u001b[1;32m/opt/conda/lib/python3.10/site-packages/qiskit/transpiler/passmanager.py:422\u001b[1;36m in \u001b[1;35mwrapper\u001b[1;36m\n",
      "\u001b[1;33m    raise TranspilerError(ex.message) from ex\u001b[1;36m\n",
      "\u001b[1;31mTranspilerError\u001b[0m\u001b[1;31m:\u001b[0m \"HighLevelSynthesis was unable to synthesize Instruction(name='measure', num_qubits=1, num_clbits=1, params=[]).\"\n",
      "\n",
      "Use %tb to get the full traceback.\n"
     ]
    },
    {
     "data": {
      "text/html": [
       "\n",
       "<style>\n",
       ".button {\n",
       "  border: none;\n",
       "  color: white;\n",
       "  padding: 4px 8px;\n",
       "  text-align: center;\n",
       "  text-decoration: none;\n",
       "  display: inline-block;\n",
       "  font-size: 12px;\n",
       "  margin: 4px 2px;\n",
       "  transition-duration: 0.2s;\n",
       "  cursor: pointer;\n",
       "}\n",
       ".iqx-button {\n",
       "  background-color: #0f62fe; \n",
       "  color: white; \n",
       "}\n",
       ".iqx-button:hover {\n",
       "  background-color: #0043ce;\n",
       "  color: white;\n",
       "}\n",
       "</style>\n",
       "<a href=\"https://stackoverflow.com/search?q=TranspilerError: HighLevelSynthesis was unable to synthesize Instruction(name='measure', num_qubits=1, num_clbits=1, params=[]).\" target='_blank'><button class='button iqx-button'>Search for solution online</button></a>\n"
      ],
      "text/plain": [
       "<IPython.core.display.HTML object>"
      ]
     },
     "metadata": {},
     "output_type": "display_data"
    }
   ],
   "source": [
    "# Create noisy simulator backend\n",
    "sim_noise = AerSimulator(noise_model=noise_bit_flip)\n",
    " \n",
    "# Transpile circuit for noisy basis gates\n",
    "passmanager = generate_preset_pass_manager(optimization_level=3, backend=sim_noise)\n",
    "circ_tnoise = passmanager.run(circ)\n",
    " \n",
    "# Initialize an empty string to store the binary sequence\n",
    "binary_sequence = ''\n",
    "\n",
    "# Number of times to run the circuit to get 512 bits\n",
    "num_runs = 512 // n_qubits\n",
    "\n",
    "for _ in range(num_runs):\n",
    "    # Run and get counts\n",
    "    result_thermal = sim_thermal.run(circ_tthermal).result()\n",
    "    counts_thermal = result_thermal.get_counts(0)\n",
    "    \n",
    "    # Get the most frequent bitstring\n",
    "    most_frequent_bitstring = max(counts_thermal, key=counts_thermal.get)\n",
    "    binary_sequence += most_frequent_bitstring\n",
    "\n",
    "print('RESULT: ', binary_sequence, '\\n')\n",
    "print(len(binary_sequence))\n",
    "\n",
    "\n",
    "\n",
    "# =========================================================================================\n",
    "# Number of sequences to generate\n",
    "num_sequences = 2\n",
    "\n",
    "# Number of times to run the circuit to get 512 bits\n",
    "num_runs = 512 // n_qubits\n",
    "\n",
    "# Open the file in write mode\n",
    "with open('Thermal_seq.txt', 'w') as f:\n",
    "    # Repeat for each sequence\n",
    "    for _ in range(num_sequences):\n",
    "        # Initialize an empty string to store the binary sequence\n",
    "        binary_sequence = ''\n",
    "\n",
    "        # Generate the sequence\n",
    "        for _ in range(num_runs):\n",
    "            # Run and get counts\n",
    "            result_thermal = sim_thermal.run(circ_tthermal).result()\n",
    "            counts_thermal = result_thermal.get_counts(0)\n",
    "\n",
    "            # Get the most frequent bitstring\n",
    "            most_frequent_bitstring = max(counts_thermal, key=counts_thermal.get)\n",
    "            binary_sequence += most_frequent_bitstring\n",
    "\n",
    "        # Write the sequence to the file\n",
    "        f.write(binary_sequence + '\\n')"
   ]
  },
  {
   "cell_type": "code",
   "execution_count": null,
   "id": "e8ad633e-b603-45b3-811d-e192faeb635f",
   "metadata": {},
   "outputs": [],
   "source": []
  }
 ],
 "metadata": {
  "kernelspec": {
   "display_name": "Qiskit v1.0.2 (ipykernel)",
   "language": "python",
   "name": "python3"
  },
  "language_info": {
   "codemirror_mode": {
    "name": "ipython",
    "version": 3
   },
   "file_extension": ".py",
   "mimetype": "text/x-python",
   "name": "python",
   "nbconvert_exporter": "python",
   "pygments_lexer": "ipython3",
   "version": "3.10.8"
  },
  "widgets": {
   "application/vnd.jupyter.widget-state+json": {
    "state": {},
    "version_major": 2,
    "version_minor": 0
   }
  }
 },
 "nbformat": 4,
 "nbformat_minor": 5
}
