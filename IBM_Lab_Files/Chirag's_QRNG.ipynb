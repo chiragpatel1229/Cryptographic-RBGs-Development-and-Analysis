{
 "cells": [
  {
   "cell_type": "code",
   "execution_count": null,
   "id": "55bbc3ad-f991-4725-a609-f9fd572bb091",
   "metadata": {},
   "outputs": [],
   "source": [
    "from qiskit_ibm_provider import IBMProvider\n",
    "from qiskit import QuantumRegister, ClassicalRegister, QuantumCircuit, execute\n",
    "from qiskit.tools.monitor import job_monitor\n",
    "\n",
    "provider = IBMProvider(\"966bbf0869e7e72d9db993ddcf646794695d32a38f8e9f0d76eb6553533d1c650d58cfcf1ae079eb9077a59d1accaa76e038db084ccee20555d81b384f0f6568\")"
   ]
  },
  {
   "cell_type": "code",
   "execution_count": null,
   "id": "5b3c99ae-0bd3-4d4f-a08a-25318603a611",
   "metadata": {},
   "outputs": [],
   "source": [
    "# backends = provider.backends()                      # Get a list of available backends\n",
    "print(provider.backends() )     # Print the names of available backends"
   ]
  },
  {
   "cell_type": "code",
   "execution_count": null,
   "id": "e6f233d6-0fe1-407f-801b-55a7bcc02dc6",
   "metadata": {},
   "outputs": [],
   "source": [
    "\"\"\"\n",
    "To generate Random seqeunces using the Simulators instead the actual Quantum Device to avoide the errors and noice may occure during the process.\n",
    "\"\"\"\n",
    "\n",
    "# IBMQ.enable_account('969d8e447e14e7b515a103cb947ed22b470fe307185d4faba2bdeba9d7e945a7599f368d4f8c3dd878ce0f3485ebb2287ee9a348b96b26bfafc97ced3934097c')  # Setup an account using a key if not\n",
    "# provider = IBMQ.get_provider(hub='ibm-q', group='open', project='main')    # if account is not set then select the provider\n",
    "\n",
    "backend = provider.get_backend('ibmq_qasm_simulator')              # select the backend device or simulator    \n",
    "\n",
    "q = QuantumRegister(32,'q')                               # set Quantum Register with upto 63 qubits\n",
    "c = ClassicalRegister(32,'c')                             # set Classical Register with upto 63 qubits\n",
    "\n",
    "circuit = QuantumCircuit(q,c)                             # Create Quantum Circuit using the Quantum and Classical Registers\n",
    "\n",
    "circuit.h(q)                                              # Apply hadamard gate on all qubits\n",
    "\n",
    "circuit.measure(q,c)                                      # Measures each qubit and save the result in Classical bits\n",
    "\n",
    "binary_sequence = \"\"                                      # empty string to save the binary sequence\n",
    "\n",
    "for i in range (4):\n",
    "    \n",
    "    job = execute(circuit, backend, shots=50)              # execute the Q-circuit on the simulator or Q-device which returns an object\n",
    "                               \n",
    "    print(f'Executing Job...\\n {job_monitor(job)}\\n')     # Check the Status in real time             \n",
    "    \n",
    "    result = job.result()                                 # returns a dictionary from an object\n",
    "\n",
    "\n",
    "    counts = result.get_counts()                          # number of times - unique binary sequences\n",
    "\n",
    "    binary_sequence += list (counts.keys ()) [0]          # select the unique binary sequence by it's index here it's [0]\n",
    "\n",
    "binary_sequence = binary_sequence[:256]\n",
    "# print the final binary sequence\n",
    "print('RESULT: ',binary_sequence,'\\n')\n",
    "print(len(binary_sequence))\n",
    "\n"
   ]
  },
  {
   "cell_type": "code",
   "execution_count": null,
   "id": "1bd269fb-998c-4040-b502-bcb9b8cfcc25",
   "metadata": {
    "tags": []
   },
   "outputs": [],
   "source": [
    "backend = provider.get_backend('simulator_extended_stabilizer')              # select the backend device or simulator    \n",
    "\n",
    "q = QuantumRegister(63,'q')                               # set Quantum Register with upto 63 qubits\n",
    "c = ClassicalRegister(63,'c')                             # set Classical Register with upto 63 qubits\n",
    "\n",
    "circuit = QuantumCircuit(q,c)                             # Create Quantum Circuit using the Quantum and Classical Registers\n",
    "\n",
    "circuit.h(q)                                              # Apply hadamard gate on all qubits\n",
    "\n",
    "circuit.measure(q,c)                                      # Measures each qubit and save the result in Classical bits\n",
    "\n",
    "binary_sequence_1 = \"\"                                    # empty string to save the binary sequence\n",
    "binary_sequence_2 = \"\"\n",
    "\n",
    "for i in range (5):\n",
    "    \n",
    "    job = execute(circuit, backend, shots=100)            # execute the Q-circuit on the simulator or Q-device which returns an object\n",
    "                               \n",
    "    print(f'Executing Job...\\n {job_monitor(job)}\\n')     # Check the Status in real time             \n",
    "    \n",
    "    result = job.result()                                 # returns a dictionary from an object\n",
    "\n",
    "\n",
    "    counts = result.get_counts()                          # number of times - unique binary sequences\n",
    "\n",
    "    binary_sequence_1 += list (counts.keys ()) [0]        # select the unique binary sequence by it's index here it's [0]\n",
    "    binary_sequence_2 += list (counts.keys ()) [1]        # select the unique binary sequence by it's index here it's [0]\n",
    "\n",
    "binary_sequence_1 = binary_sequence_1[:256]               # Consider only required sequence length\n",
    "binary_sequence_2 = binary_sequence_2[:256]\n",
    "\n",
    "# print the final binary sequence\n",
    "print('seq_1 ',binary_sequence_1,'\\n', 'seq_2', binary_sequence_2, '\\n')\n",
    "print(binary_sequence_1 == binary_sequence_2, '\\n')\n",
    "print('1', len(binary_sequence_1), '\\n2', len(binary_sequence_2))"
   ]
  },
  {
   "cell_type": "code",
   "execution_count": null,
   "id": "8d6cec0e-01b5-4aff-b0ad-072cc3c92765",
   "metadata": {},
   "outputs": [],
   "source": []
  }
 ],
 "metadata": {
  "kernelspec": {
   "display_name": "Qiskit v1.0.2 (ipykernel)",
   "language": "python",
   "name": "python3"
  },
  "language_info": {
   "codemirror_mode": {
    "name": "ipython",
    "version": 3
   },
   "file_extension": ".py",
   "mimetype": "text/x-python",
   "name": "python",
   "nbconvert_exporter": "python",
   "pygments_lexer": "ipython3",
   "version": "3.10.8"
  },
  "widgets": {
   "application/vnd.jupyter.widget-state+json": {
    "state": {},
    "version_major": 2,
    "version_minor": 0
   }
  }
 },
 "nbformat": 4,
 "nbformat_minor": 5
}
