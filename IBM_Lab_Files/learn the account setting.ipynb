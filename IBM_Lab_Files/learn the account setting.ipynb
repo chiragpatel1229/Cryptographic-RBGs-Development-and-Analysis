{
 "cells": [
  {
   "cell_type": "code",
   "execution_count": 3,
   "id": "a32ce4c6-54c3-496a-8f24-6c8f260f372d",
   "metadata": {
    "tags": []
   },
   "outputs": [],
   "source": [
    "from qiskit_ibm_provider import IBMProvider\n",
    "IBMProvider.save_account(token='30906764f6179a00a2dd23113069d9fe07cd14f6e934675760f0eb3e401ecca40dcabcb4991ac016af09c3277662da96f6ec9dbc9e98ae74dad5575d3d233a54', overwrite=True)"
   ]
  },
  {
   "cell_type": "code",
   "execution_count": 7,
   "id": "52e285fa-c12d-4719-b939-63c8233da1a7",
   "metadata": {
    "tags": []
   },
   "outputs": [
    {
     "name": "stdout",
     "output_type": "stream",
     "text": [
      "<IBMProvider>\n",
      "[<IBMBackend('ibm_osaka')>, <IBMBackend('ibmq_qasm_simulator')>, <IBMBackend('simulator_extended_stabilizer')>, <IBMBackend('simulator_mps')>, <IBMBackend('simulator_statevector')>, <IBMBackend('simulator_stabilizer')>, <IBMBackend('ibm_brisbane')>, <IBMBackend('ibm_kyoto')>]\n"
     ]
    }
   ],
   "source": [
    "from qiskit_ibm_provider import IBMProvider\n",
    "provider = IBMProvider()\n",
    "print(provider)\n",
    "\n",
    "# display current supported backends\n",
    "print(provider.backends())\n",
    "\n",
    "# get IBM's simulator backend\n",
    "simulator_backend = provider.get_backend('ibmq_qasm_simulator')"
   ]
  },
  {
   "cell_type": "code",
   "execution_count": 10,
   "id": "c4aa6752-5575-4ddb-bda1-b9d5af953329",
   "metadata": {
    "tags": []
   },
   "outputs": [
    {
     "name": "stdout",
     "output_type": "stream",
     "text": [
      "Job Status: job has successfully run\n",
      "Executing Job...\n",
      " None\n",
      "\n",
      "Traceback \u001b[1;36m(most recent call last)\u001b[0m:\n",
      "\u001b[0m  Cell \u001b[0;32mIn[10], line 34\u001b[0m\n",
      "    counts = result.get_counts()                          # number of times - unique binary sequences\u001b[0m\n",
      "\u001b[1;36m  File \u001b[1;32m/opt/conda/lib/python3.10/site-packages/qiskit/result/result.py:289\u001b[1;36m in \u001b[1;35mget_counts\u001b[1;36m\n",
      "\u001b[1;33m    raise QiskitError(f'No counts for experiment \"{repr(key)}\"')\u001b[1;36m\n",
      "\u001b[1;31mQiskitError\u001b[0m\u001b[1;31m:\u001b[0m 'No counts for experiment \"0\"'\n",
      "\n",
      "Use %tb to get the full traceback.\n"
     ]
    },
    {
     "data": {
      "text/html": [
       "\n",
       "<style>\n",
       ".button {\n",
       "  border: none;\n",
       "  color: white;\n",
       "  padding: 4px 8px;\n",
       "  text-align: center;\n",
       "  text-decoration: none;\n",
       "  display: inline-block;\n",
       "  font-size: 12px;\n",
       "  margin: 4px 2px;\n",
       "  transition-duration: 0.2s;\n",
       "  cursor: pointer;\n",
       "}\n",
       ".iqx-button {\n",
       "  background-color: #0f62fe; \n",
       "  color: white; \n",
       "}\n",
       ".iqx-button:hover {\n",
       "  background-color: #0043ce;\n",
       "  color: white;\n",
       "}\n",
       "</style>\n",
       "<a href=\"https://stackoverflow.com/search?q=QiskitError: No counts for experiment \"0\"\" target='_blank'><button class='button iqx-button'>Search for solution online</button></a>\n"
      ],
      "text/plain": [
       "<IPython.core.display.HTML object>"
      ]
     },
     "metadata": {},
     "output_type": "display_data"
    }
   ],
   "source": [
    "\"\"\"\n",
    "To generate Random seqeunces using the Simulators instead the actual Quantum Device to avoide the errors and noice may occure during the process.\n",
    "\"\"\"\n",
    "\n",
    "from qiskit import QuantumRegister, ClassicalRegister, QuantumCircuit, execute,IBMQ\n",
    "from qiskit.tools.monitor import job_monitor\n",
    "\n",
    "\n",
    "# IBMQ.enable_account('969d8e447e14e7b515a103cb947ed22b470fe307185d4faba2bdeba9d7e945a7599f368d4f8c3dd878ce0f3485ebb2287ee9a348b96b26bfafc97ced3934097c')  # Setup an account using a key if not\n",
    "# provider = IBMQ.get_provider(hub='ibm-q', group='open', project='main')    # if account is not set then select the provider\n",
    "\n",
    "backend = provider.get_backend('ibmq_qasm_simulator')              # select the backend device or simulator    \n",
    "\n",
    "q = QuantumRegister(32,'q')                               # set Quantum Register with upto 63 qubits\n",
    "c = ClassicalRegister(32,'c')                             # set Classical Register with upto 63 qubits\n",
    "\n",
    "circuit = QuantumCircuit(q,c)                             # Create Quantum Circuit using the Quantum and Classical Registers\n",
    "\n",
    "circuit.h(q)                                              # Apply hadamard gate on all qubits\n",
    "\n",
    "circuit.measure(q,c)                                      # Measures each qubit and save the result in Classical bits\n",
    "\n",
    "binary_sequence = \"\"                                      # empty string to save the binary sequence\n",
    "\n",
    "for i in range (4):\n",
    "    \n",
    "    job = execute(circuit, backend, shots=0)              # execute the Q-circuit on the simulator or Q-device which returns an object\n",
    "                               \n",
    "    print(f'Executing Job...\\n {job_monitor(job)}\\n')     # Check the Status in real time             \n",
    "    \n",
    "    result = job.result()                                 # returns a dictionary from an object\n",
    "\n",
    "\n",
    "    counts = result.get_counts()                          # number of times - unique binary sequences\n",
    "\n",
    "    binary_sequence += list (counts.keys ()) [0]          # select the unique binary sequence by it's index here it's [0]\n",
    "\n",
    "binary_sequence = binary_sequence[:256]\n",
    "# print the final binary sequence\n",
    "print('RESULT: ',binary_sequence,'\\n')\n",
    "print(len(binary_sequence))\n",
    "\n"
   ]
  },
  {
   "cell_type": "code",
   "execution_count": null,
   "id": "57790e10-52cc-45ad-a12d-e454c4503ba0",
   "metadata": {},
   "outputs": [],
   "source": []
  }
 ],
 "metadata": {
  "kernelspec": {
   "display_name": "Python 3 (ipykernel)",
   "language": "python",
   "name": "python3"
  },
  "language_info": {
   "codemirror_mode": {
    "name": "ipython",
    "version": 3
   },
   "file_extension": ".py",
   "mimetype": "text/x-python",
   "name": "python",
   "nbconvert_exporter": "python",
   "pygments_lexer": "ipython3",
   "version": "3.10.8"
  },
  "widgets": {
   "application/vnd.jupyter.widget-state+json": {
    "state": {},
    "version_major": 2,
    "version_minor": 0
   }
  }
 },
 "nbformat": 4,
 "nbformat_minor": 5
}
