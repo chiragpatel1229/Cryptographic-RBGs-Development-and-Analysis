{
 "cells": [
  {
   "cell_type": "code",
   "execution_count": 1,
   "id": "9d555090-1091-4220-a037-39827db2abd1",
   "metadata": {
    "tags": []
   },
   "outputs": [
    {
     "name": "stdout",
     "output_type": "stream",
     "text": [
      "Generated Binary Sequence: 1101111000111111101010011110010000100111001010000101111100000010101001011101001111100100100001111000110111011110001100100010100101000101000001010100101100000010010001110111101101000010101110100111001110011110101100001100000001011111110100001011001101100110\n"
     ]
    }
   ],
   "source": [
    "\"\"\"\n",
    "Possibility to generate the answers real quick.\n",
    "\"\"\"\n",
    "    \n",
    "    \n",
    "from qiskit import QuantumCircuit, Aer, transpile\n",
    "from qiskit.visualization import plot_histogram\n",
    "import matplotlib.pyplot as plt\n",
    "\n",
    "# Create a quantum circuit\n",
    "qc = QuantumCircuit(256, 256)\n",
    "\n",
    "# Apply Hadamard gate to each qubit\n",
    "qc.h(range(256))\n",
    "\n",
    "# Measure all qubits\n",
    "qc.measure(range(256), range(256))\n",
    "\n",
    "# Transpile the circuit for the simulator\n",
    "transpiled_qc = transpile(qc, Aer.get_backend('qasm_simulator'))\n",
    "\n",
    "# Execute the circuit on the simulator\n",
    "result = Aer.get_backend('qasm_simulator').run(transpiled_qc).result()\n",
    "\n",
    "# Get counts from the result\n",
    "counts = result.get_counts()\n",
    "\n",
    "# Convert counts to binary sequence\n",
    "binary_sequence = max(counts, key=counts.get)\n",
    "\n",
    "# Display the binary sequence\n",
    "print(\"Generated Binary Sequence:\", binary_sequence)\n",
    "\n",
    "# Plot the histogram of measurement results\n",
    "plot_histogram(counts)\n",
    "plt.show()\n"
   ]
  },
  {
   "cell_type": "code",
   "execution_count": 4,
   "id": "e8190212-1b54-4a4b-8d93-86303e5ba097",
   "metadata": {},
   "outputs": [
    {
     "name": "stdout",
     "output_type": "stream",
     "text": [
      "Traceback \u001b[1;36m(most recent call last)\u001b[0m:\n",
      "\u001b[0m  Cell \u001b[0;32mIn[5], line 19\u001b[0m\n",
      "    backend = Aer.get_backend('simulator_extended_stabilizer')\u001b[0m\n",
      "\u001b[0m  File \u001b[0;32m/opt/conda/lib/python3.10/site-packages/qiskit_aer/aerprovider.py:75\u001b[0m in \u001b[0;35mget_backend\u001b[0m\n",
      "    return super().get_backend(name=name, **kwargs)\u001b[0m\n",
      "\u001b[1;36m  File \u001b[1;32m/opt/conda/lib/python3.10/site-packages/qiskit/providers/provider.py:55\u001b[1;36m in \u001b[1;35mget_backend\u001b[1;36m\n",
      "\u001b[1;33m    raise QiskitBackendNotFoundError(\"No backend matches the criteria\")\u001b[1;36m\n",
      "\u001b[1;31mQiskitBackendNotFoundError\u001b[0m\u001b[1;31m:\u001b[0m 'No backend matches the criteria'\n",
      "\n",
      "Use %tb to get the full traceback.\n"
     ]
    },
    {
     "data": {
      "text/html": [
       "\n",
       "<style>\n",
       ".button {\n",
       "  border: none;\n",
       "  color: white;\n",
       "  padding: 4px 8px;\n",
       "  text-align: center;\n",
       "  text-decoration: none;\n",
       "  display: inline-block;\n",
       "  font-size: 12px;\n",
       "  margin: 4px 2px;\n",
       "  transition-duration: 0.2s;\n",
       "  cursor: pointer;\n",
       "}\n",
       ".iqx-button {\n",
       "  background-color: #0f62fe; \n",
       "  color: white; \n",
       "}\n",
       ".iqx-button:hover {\n",
       "  background-color: #0043ce;\n",
       "  color: white;\n",
       "}\n",
       "</style>\n",
       "<a href=\"https://stackoverflow.com/search?q=QiskitBackendNotFoundError: No backend matches the criteria\" target='_blank'><button class='button iqx-button'>Search for solution online</button></a>\n"
      ],
      "text/plain": [
       "<IPython.core.display.HTML object>"
      ]
     },
     "metadata": {},
     "output_type": "display_data"
    }
   ],
   "source": [
    "from qiskit import QuantumRegister, ClassicalRegister, QuantumCircuit, execute, Aer\n",
    "\n",
    "# Create a quantum register with 256 qubits\n",
    "q = QuantumRegister(256, 'q')\n",
    "\n",
    "# Create a classical register with 256 bits\n",
    "c = ClassicalRegister(256, 'c')\n",
    "\n",
    "# Create a quantum circuit with the quantum and classical registers\n",
    "circuit = QuantumCircuit(q, c)\n",
    "\n",
    "# Apply Hadamard gates to all qubits to create superposition states\n",
    "circuit.h(q)\n",
    "\n",
    "# Measure all qubits and store the results in classical bits\n",
    "circuit.measure(q, c)\n",
    "\n",
    "# Choose the backend simulator\n",
    "backend = Aer.get_backend('qasm_simulator')\n",
    "\n",
    "# Number of sequences to generate\n",
    "num_sequences = 10\n",
    "\n",
    "# Initialize an empty list to store the binary sequences\n",
    "binary_sequences = []\n",
    "\n",
    "# Repeat the process for the desired number of sequences\n",
    "for _ in range(num_sequences):\n",
    "    # Execute the circuit on the simulator and get the result\n",
    "    job = execute(circuit, backend, shots=10)\n",
    "    result = job.result()\n",
    "\n",
    "    # Get the counts of the measurement outcomes\n",
    "    counts = result.get_counts()\n",
    "\n",
    "    # Get the binary sequence from the counts dictionary\n",
    "    # The key is the binary sequence, and the value is the number of occurrences\n",
    "    # Since we only have one shot, there is only one key\n",
    "    binary_sequence = list(counts.keys())[0]\n",
    "\n",
    "    # Append the binary sequence to the list\n",
    "    binary_sequences.append(binary_sequence)\n",
    "\n",
    "# Print the generated binary sequences\n",
    "for i, sequence in enumerate(binary_sequences):\n",
    "    print(f\"Sequence {i + 1}: {sequence}\")\n",
    "\n",
    "# Save the binary sequences to a text file\n",
    "file_path = \"binary_sequences.txt\"\n",
    "with open(file_path, \"w\") as file:\n",
    "    for sequence in binary_sequences:\n",
    "        file.write(sequence + \"\\n\")\n",
    "\n",
    "print(f\"\\nBinary sequences saved to {file_path}\")\n"
   ]
  },
  {
   "cell_type": "code",
   "execution_count": null,
   "id": "a331ad9f-9919-42d2-99bd-9dc8dc7eaf54",
   "metadata": {},
   "outputs": [],
   "source": []
  }
 ],
 "metadata": {
  "kernelspec": {
   "display_name": "Python 3 (ipykernel)",
   "language": "python",
   "name": "python3"
  },
  "language_info": {
   "codemirror_mode": {
    "name": "ipython",
    "version": 3
   },
   "file_extension": ".py",
   "mimetype": "text/x-python",
   "name": "python",
   "nbconvert_exporter": "python",
   "pygments_lexer": "ipython3",
   "version": "3.10.8"
  },
  "widgets": {
   "application/vnd.jupyter.widget-state+json": {
    "state": {},
    "version_major": 2,
    "version_minor": 0
   }
  }
 },
 "nbformat": 4,
 "nbformat_minor": 5
}
