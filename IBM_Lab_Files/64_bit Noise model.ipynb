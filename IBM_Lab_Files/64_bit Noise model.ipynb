{
 "cells": [
  {
   "cell_type": "code",
   "execution_count": 4,
   "id": "1fc6e0ad-55ec-4f49-b939-0f27ff1bfce4",
   "metadata": {},
   "outputs": [
    {
     "name": "stderr",
     "output_type": "stream",
     "text": [
      "qiskit_runtime_service.__init__:INFO:2024-03-13 13:04:56,461: Default instance: ibm-q/open/main\n"
     ]
    }
   ],
   "source": [
    "import numpy as np\n",
    "from qiskit import QuantumRegister, ClassicalRegister, QuantumCircuit\n",
    "from qiskit.quantum_info import Kraus, SuperOp\n",
    "from qiskit.compiler import transpile\n",
    "from qiskit.transpiler.preset_passmanagers import generate_preset_pass_manager\n",
    "from qiskit_aer import AerSimulator\n",
    " \n",
    "# Import from Qiskit Aer noise module\n",
    "from qiskit_aer.noise import (\n",
    "    NoiseModel,\n",
    "    QuantumError,\n",
    "    ReadoutError,\n",
    "    depolarizing_error,\n",
    "    pauli_error,\n",
    "    thermal_relaxation_error,\n",
    ")\n",
    "\n",
    "from qiskit_ibm_runtime import QiskitRuntimeService\n",
    "\n",
    "service = QiskitRuntimeService()\n",
    "backend = service.backend(\"ibm_brisbane\")\n",
    "noise_model = NoiseModel.from_backend(backend)"
   ]
  },
  {
   "cell_type": "code",
   "execution_count": 5,
   "id": "0b2fceb6-2ad7-489c-844d-b47ae5f0eb10",
   "metadata": {
    "tags": []
   },
   "outputs": [
    {
     "data": {
      "text/plain": [
       "<qiskit.circuit.instructionset.InstructionSet at 0x7f59e5c7bcd0>"
      ]
     },
     "execution_count": 5,
     "metadata": {},
     "output_type": "execute_result"
    }
   ],
   "source": [
    "n_qubits = 16\n",
    "\n",
    "# Create Quantum and Classical Registers\n",
    "q = QuantumRegister(n_qubits, 'q')\n",
    "c = ClassicalRegister(n_qubits, 'c')\n",
    "\n",
    "# Create Quantum Circuit\n",
    "circ = QuantumCircuit(q, c)\n",
    "circ.h(q)  # Apply Hadamard gate on all qubits\n",
    "circ.measure(q, c)  # Measure each qubit and save the result in Classical bits"
   ]
  },
  {
   "cell_type": "code",
   "execution_count": 6,
   "id": "860342b0-4756-447a-8e60-5b36b7dc85f7",
   "metadata": {},
   "outputs": [],
   "source": [
    "# # System Specification\n",
    "# n_qubits = 16\n",
    "# circ = QuantumCircuit(n_qubits)\n",
    "\n",
    "# # Apply Hadamard gate to all qubits\n",
    "# for qubit in range(n_qubits):\n",
    "#     circ.h(qubit)\n",
    "\n",
    "# # Measure all qubits\n",
    "# circ.measure_all()\n",
    "# # print(circ)\n",
    "\n",
    "# Generate T1 and T2 values for all qubits\n",
    "T1s = np.random.normal(50e3, 10e3, n_qubits)  # Sampled from normal distribution mean 50 microseconds\n",
    "T2s = np.random.normal(70e3, 10e3, n_qubits)  # Sampled from normal distribution mean 70 microseconds\n",
    "\n",
    "# Ensure T2s are not greater than 2*T1s\n",
    "T2s = np.array([min(T2s[j], 2 * T1s[j]) for j in range(n_qubits)])\n",
    "\n",
    "# Define gate times\n",
    "time_u1 = 0  # virtual gate\n",
    "time_u2 = 50  # single X90 pulse\n",
    "time_u3 = 100  # two X90 pulses\n",
    "time_cx = 300\n",
    "time_reset = 1000  # 1 microsecond\n",
    "time_measure = 1000  # 1 microsecond\n",
    "\n",
    "# Create thermal relaxation errors for each type of gate\n",
    "errors_reset = [thermal_relaxation_error(T1s[j], T2s[j], time_reset) for j in range(n_qubits)]\n",
    "errors_measure = [thermal_relaxation_error(T1s[j], T2s[j], time_measure) for j in range(n_qubits)]\n",
    "errors_u1 = [thermal_relaxation_error(T1s[j], T2s[j], time_u1) for j in range(n_qubits)]\n",
    "errors_u2 = [thermal_relaxation_error(T1s[j], T2s[j], time_u2) for j in range(n_qubits)]\n",
    "errors_u3 = [thermal_relaxation_error(T1s[j], T2s[j], time_u3) for j in range(n_qubits)]\n",
    "errors_cx = [[thermal_relaxation_error(T1s[j], T2s[j], time_cx).expand(\n",
    "    thermal_relaxation_error(T1s[k], T2s[k], time_cx))\n",
    "    for k in range(n_qubits)] for j in range(n_qubits)]\n",
    "\n",
    "# Add errors to the noise model\n",
    "noise_thermal = NoiseModel()\n",
    "for j in range(n_qubits):\n",
    "    noise_thermal.add_quantum_error(errors_reset[j], 'reset', [j])\n",
    "    noise_thermal.add_quantum_error(errors_measure[j], 'measure', [j])\n",
    "    noise_thermal.add_quantum_error(errors_u1[j], 'u1', [j])\n",
    "    noise_thermal.add_quantum_error(errors_u2[j], 'u2', [j])\n",
    "    noise_thermal.add_quantum_error(errors_u3[j], 'u3', [j])\n",
    "    for k in range(n_qubits):\n",
    "        noise_thermal.add_quantum_error(errors_cx[j][k], 'cx', [j, k])\n",
    "        \n",
    "# print(noise_thermal)"
   ]
  },
  {
   "cell_type": "code",
   "execution_count": 7,
   "id": "6fe9ee00-4482-4c10-a82f-e324aa0d5e95",
   "metadata": {},
   "outputs": [
    {
     "name": "stdout",
     "output_type": "stream",
     "text": [
      "RESULT:  10010010010001100011011100110001 \n",
      "\n",
      "Length of binary sequence: 32\n",
      "Execution time: 25.620262384414673 seconds\n"
     ]
    }
   ],
   "source": [
    "import time\n",
    "from multiprocessing import Pool\n",
    "\n",
    "# Start time measurement\n",
    "start_time = time.time()\n",
    "\n",
    "# Run the noisy simulation\n",
    "sim_thermal = AerSimulator(noise_model=noise_thermal)\n",
    "\n",
    "# Transpile circuit for noisy basis gates\n",
    "passmanager = generate_preset_pass_manager(optimization_level=3, backend=sim_thermal)\n",
    "circ_tthermal = passmanager.run(circ)\n",
    "\n",
    "# Initialize an empty string to store the binary sequence\n",
    "binary_sequence = ''\n",
    "\n",
    "# Number of times to run the circuit to get 512 bits\n",
    "num_runs = 32 // n_qubits\n",
    "\n",
    "for _ in range(num_runs):\n",
    "    # Run and get counts\n",
    "    result_thermal = sim_thermal.run(circ_tthermal).result()\n",
    "    counts_thermal = result_thermal.get_counts(0)\n",
    "\n",
    "    # Get the most frequent bitstring\n",
    "    most_frequent_bitstring = max(counts_thermal, key=counts_thermal.get)\n",
    "    binary_sequence += most_frequent_bitstring\n",
    "\n",
    "# End time measurement\n",
    "end_time = time.time()\n",
    "\n",
    "# Calculate execution time\n",
    "execution_time = end_time - start_time\n",
    "\n",
    "print('RESULT: ', binary_sequence, '\\n')\n",
    "print('Length of binary sequence:', len(binary_sequence))\n",
    "print('Execution time:', execution_time, 'seconds')\n"
   ]
  },
  {
   "cell_type": "code",
   "execution_count": null,
   "id": "175810fc-16f9-4dd1-acff-276dcecdcbc9",
   "metadata": {},
   "outputs": [],
   "source": []
  },
  {
   "cell_type": "code",
   "execution_count": null,
   "id": "ebe306c1-3c98-4443-8014-094bd384541f",
   "metadata": {},
   "outputs": [],
   "source": []
  }
 ],
 "metadata": {
  "kernelspec": {
   "display_name": "Qiskit v1.0.2 (ipykernel)",
   "language": "python",
   "name": "python3"
  },
  "language_info": {
   "codemirror_mode": {
    "name": "ipython",
    "version": 3
   },
   "file_extension": ".py",
   "mimetype": "text/x-python",
   "name": "python",
   "nbconvert_exporter": "python",
   "pygments_lexer": "ipython3",
   "version": "3.10.8"
  },
  "widgets": {
   "application/vnd.jupyter.widget-state+json": {
    "state": {},
    "version_major": 2,
    "version_minor": 0
   }
  }
 },
 "nbformat": 4,
 "nbformat_minor": 5
}
